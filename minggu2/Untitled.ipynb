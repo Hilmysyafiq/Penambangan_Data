{
 "cells": [
  {
   "cell_type": "markdown",
   "id": "670a55c7",
   "metadata": {},
   "source": [
    "### Import Data dan Library"
   ]
  },
  {
   "cell_type": "code",
   "execution_count": 69,
   "id": "b202ecbb",
   "metadata": {},
   "outputs": [],
   "source": [
    "import pandas as pd\n",
    "import numpy as np\n",
    "from IPython.display import display\n",
    "import matplotlib.pyplot as plt\n",
    "import seaborn as sns\n",
    "\n",
    "df = pd.read_excel('dataKasus-1.xlsx')"
   ]
  },
  {
   "cell_type": "markdown",
   "id": "5a45717e",
   "metadata": {},
   "source": []
  },
  {
   "cell_type": "markdown",
   "id": "0c92e004",
   "metadata": {},
   "source": [
    "### Menampilkan data"
   ]
  },
  {
   "cell_type": "code",
   "execution_count": 70,
   "id": "4e67cecd",
   "metadata": {},
   "outputs": [
    {
     "data": {
      "text/html": [
       "<div>\n",
       "<style scoped>\n",
       "    .dataframe tbody tr th:only-of-type {\n",
       "        vertical-align: middle;\n",
       "    }\n",
       "\n",
       "    .dataframe tbody tr th {\n",
       "        vertical-align: top;\n",
       "    }\n",
       "\n",
       "    .dataframe thead th {\n",
       "        text-align: right;\n",
       "    }\n",
       "</style>\n",
       "<table border=\"1\" class=\"dataframe\">\n",
       "  <thead>\n",
       "    <tr style=\"text-align: right;\">\n",
       "      <th></th>\n",
       "      <th>NO</th>\n",
       "      <th>NAMA</th>\n",
       "      <th>USIA</th>\n",
       "      <th>PARITAS</th>\n",
       "      <th>JARAK KELAHIRAN</th>\n",
       "      <th>RIW HIPERTENSI</th>\n",
       "      <th>RIW PE</th>\n",
       "      <th>OBESITAS</th>\n",
       "      <th>RIW DM</th>\n",
       "      <th>RIW HIPERTENSI/PE DALAM KELUARGA</th>\n",
       "      <th>SOSEK RENDAH</th>\n",
       "      <th>PE/Non PE</th>\n",
       "      <th>Unnamed: 12</th>\n",
       "    </tr>\n",
       "  </thead>\n",
       "  <tbody>\n",
       "    <tr>\n",
       "      <th>0</th>\n",
       "      <td>1</td>\n",
       "      <td>NAMA 1</td>\n",
       "      <td>23 TH</td>\n",
       "      <td>3</td>\n",
       "      <td>&lt; 2 tahun</td>\n",
       "      <td>Tidak</td>\n",
       "      <td>Tidak</td>\n",
       "      <td>Tidak</td>\n",
       "      <td>Ya</td>\n",
       "      <td>Tidak</td>\n",
       "      <td>&gt;UMR</td>\n",
       "      <td>Non PE</td>\n",
       "      <td>NaN</td>\n",
       "    </tr>\n",
       "    <tr>\n",
       "      <th>1</th>\n",
       "      <td>2</td>\n",
       "      <td>NAMA 2</td>\n",
       "      <td>29 TH</td>\n",
       "      <td>2</td>\n",
       "      <td>&lt; 2 tahun</td>\n",
       "      <td>Tidak</td>\n",
       "      <td>PEB</td>\n",
       "      <td>Tidak</td>\n",
       "      <td>Tidak</td>\n",
       "      <td>Ada</td>\n",
       "      <td>&gt;UMR</td>\n",
       "      <td>PE</td>\n",
       "      <td>NaN</td>\n",
       "    </tr>\n",
       "    <tr>\n",
       "      <th>2</th>\n",
       "      <td>3</td>\n",
       "      <td>NAMA 3</td>\n",
       "      <td>20 TH</td>\n",
       "      <td>1</td>\n",
       "      <td>anak pertama</td>\n",
       "      <td>Tidak</td>\n",
       "      <td>Tidak</td>\n",
       "      <td>Tidak</td>\n",
       "      <td>Tidak</td>\n",
       "      <td>Tidak</td>\n",
       "      <td>&gt;UMR</td>\n",
       "      <td>Non PE</td>\n",
       "      <td>NaN</td>\n",
       "    </tr>\n",
       "    <tr>\n",
       "      <th>3</th>\n",
       "      <td>4</td>\n",
       "      <td>NAMA 4</td>\n",
       "      <td>18 TH</td>\n",
       "      <td>1</td>\n",
       "      <td>anak pertama</td>\n",
       "      <td>Tidak</td>\n",
       "      <td>Tidak</td>\n",
       "      <td>Tidak</td>\n",
       "      <td>Tidak</td>\n",
       "      <td>Tidak</td>\n",
       "      <td>&gt;UMR</td>\n",
       "      <td>Non PE</td>\n",
       "      <td>NaN</td>\n",
       "    </tr>\n",
       "    <tr>\n",
       "      <th>4</th>\n",
       "      <td>5</td>\n",
       "      <td>NAMA 5</td>\n",
       "      <td>34 TH</td>\n",
       "      <td>3</td>\n",
       "      <td>&gt; 2 tahun</td>\n",
       "      <td>Tidak</td>\n",
       "      <td>Tidak</td>\n",
       "      <td>Tidak</td>\n",
       "      <td>Tidak</td>\n",
       "      <td>Tidak</td>\n",
       "      <td>&gt;UMR</td>\n",
       "      <td>Non PE</td>\n",
       "      <td>NaN</td>\n",
       "    </tr>\n",
       "  </tbody>\n",
       "</table>\n",
       "</div>"
      ],
      "text/plain": [
       "   NO    NAMA   USIA  PARITAS JARAK KELAHIRAN RIW HIPERTENSI RIW PE OBESITAS  \\\n",
       "0   1  NAMA 1  23 TH        3       < 2 tahun          Tidak  Tidak    Tidak   \n",
       "1   2  NAMA 2  29 TH        2       < 2 tahun          Tidak    PEB    Tidak   \n",
       "2   3  NAMA 3  20 TH        1    anak pertama          Tidak  Tidak    Tidak   \n",
       "3   4  NAMA 4  18 TH        1    anak pertama          Tidak  Tidak    Tidak   \n",
       "4   5  NAMA 5  34 TH        3      > 2 tahun           Tidak  Tidak    Tidak   \n",
       "\n",
       "  RIW DM RIW HIPERTENSI/PE DALAM KELUARGA SOSEK RENDAH PE/Non PE Unnamed: 12  \n",
       "0     Ya                            Tidak         >UMR    Non PE         NaN  \n",
       "1  Tidak                              Ada         >UMR        PE         NaN  \n",
       "2  Tidak                            Tidak         >UMR    Non PE         NaN  \n",
       "3  Tidak                            Tidak         >UMR    Non PE         NaN  \n",
       "4  Tidak                            Tidak         >UMR    Non PE         NaN  "
      ]
     },
     "metadata": {},
     "output_type": "display_data"
    }
   ],
   "source": [
    "display(df.head())"
   ]
  },
  {
   "cell_type": "markdown",
   "id": "d1430433",
   "metadata": {},
   "source": [
    "### Menampilkan statistik  dasar & Tipe data"
   ]
  },
  {
   "cell_type": "code",
   "execution_count": 71,
   "id": "9d8adafe",
   "metadata": {},
   "outputs": [
    {
     "data": {
      "text/html": [
       "<div>\n",
       "<style scoped>\n",
       "    .dataframe tbody tr th:only-of-type {\n",
       "        vertical-align: middle;\n",
       "    }\n",
       "\n",
       "    .dataframe tbody tr th {\n",
       "        vertical-align: top;\n",
       "    }\n",
       "\n",
       "    .dataframe thead th {\n",
       "        text-align: right;\n",
       "    }\n",
       "</style>\n",
       "<table border=\"1\" class=\"dataframe\">\n",
       "  <thead>\n",
       "    <tr style=\"text-align: right;\">\n",
       "      <th></th>\n",
       "      <th>NO</th>\n",
       "      <th>PARITAS</th>\n",
       "    </tr>\n",
       "  </thead>\n",
       "  <tbody>\n",
       "    <tr>\n",
       "      <th>count</th>\n",
       "      <td>561.000000</td>\n",
       "      <td>561.000000</td>\n",
       "    </tr>\n",
       "    <tr>\n",
       "      <th>mean</th>\n",
       "      <td>281.859180</td>\n",
       "      <td>1.709447</td>\n",
       "    </tr>\n",
       "    <tr>\n",
       "      <th>std</th>\n",
       "      <td>162.301009</td>\n",
       "      <td>1.012105</td>\n",
       "    </tr>\n",
       "    <tr>\n",
       "      <th>min</th>\n",
       "      <td>1.000000</td>\n",
       "      <td>0.000000</td>\n",
       "    </tr>\n",
       "    <tr>\n",
       "      <th>25%</th>\n",
       "      <td>142.000000</td>\n",
       "      <td>1.000000</td>\n",
       "    </tr>\n",
       "    <tr>\n",
       "      <th>50%</th>\n",
       "      <td>282.000000</td>\n",
       "      <td>2.000000</td>\n",
       "    </tr>\n",
       "    <tr>\n",
       "      <th>75%</th>\n",
       "      <td>422.000000</td>\n",
       "      <td>2.000000</td>\n",
       "    </tr>\n",
       "    <tr>\n",
       "      <th>max</th>\n",
       "      <td>562.000000</td>\n",
       "      <td>6.000000</td>\n",
       "    </tr>\n",
       "  </tbody>\n",
       "</table>\n",
       "</div>"
      ],
      "text/plain": [
       "               NO     PARITAS\n",
       "count  561.000000  561.000000\n",
       "mean   281.859180    1.709447\n",
       "std    162.301009    1.012105\n",
       "min      1.000000    0.000000\n",
       "25%    142.000000    1.000000\n",
       "50%    282.000000    2.000000\n",
       "75%    422.000000    2.000000\n",
       "max    562.000000    6.000000"
      ]
     },
     "metadata": {},
     "output_type": "display_data"
    },
    {
     "data": {
      "text/plain": [
       "NO                                   int64\n",
       "NAMA                                object\n",
       "USIA                                object\n",
       "PARITAS                              int64\n",
       "JARAK KELAHIRAN                     object\n",
       "RIW HIPERTENSI                      object\n",
       "RIW PE                              object\n",
       "OBESITAS                            object\n",
       "RIW DM                              object\n",
       "RIW HIPERTENSI/PE DALAM KELUARGA    object\n",
       "SOSEK RENDAH                        object\n",
       "PE/Non PE                           object\n",
       "Unnamed: 12                         object\n",
       "dtype: object"
      ]
     },
     "metadata": {},
     "output_type": "display_data"
    }
   ],
   "source": [
    "display(df.describe())\n",
    "display(df.dtypes)"
   ]
  },
  {
   "cell_type": "markdown",
   "id": "e0d05a02",
   "metadata": {},
   "source": [
    "### Menghitung total nilai NULL"
   ]
  },
  {
   "cell_type": "code",
   "execution_count": 72,
   "id": "5e9604a4",
   "metadata": {},
   "outputs": [
    {
     "name": "stdout",
     "output_type": "stream",
     "text": [
      "NO                                    0\n",
      "NAMA                                  0\n",
      "USIA                                  3\n",
      "PARITAS                               0\n",
      "JARAK KELAHIRAN                       7\n",
      "RIW HIPERTENSI                        0\n",
      "RIW PE                                0\n",
      "OBESITAS                              0\n",
      "RIW DM                                0\n",
      "RIW HIPERTENSI/PE DALAM KELUARGA      0\n",
      "SOSEK RENDAH                          0\n",
      "PE/Non PE                             0\n",
      "Unnamed: 12                         550\n",
      "dtype: int64\n"
     ]
    }
   ],
   "source": [
    "print(df.isnull().sum())"
   ]
  },
  {
   "cell_type": "markdown",
   "id": "c62420a6",
   "metadata": {},
   "source": [
    "## Histogram usia"
   ]
  },
  {
   "cell_type": "code",
   "execution_count": 73,
   "id": "eb04c4d8",
   "metadata": {},
   "outputs": [
    {
     "name": "stdout",
     "output_type": "stream",
     "text": [
      "220\n"
     ]
    },
    {
     "data": {
      "image/png": "[encoded data removed]",
      "text/plain": [
       "<Figure size 1000x600 with 1 Axes>"
      ]
     },
     "metadata": {},
     "output_type": "display_data"
    }
   ],
   "source": [
    "\n",
    "# Menghapus ' TH' dari kolom 'USIA' dan menghapus spasi tambahan\n",
    "df['USIA'] = df['USIA'].str.replace(' TH', '').str.strip()\n",
    "\n",
    "# Mengganti nilai yang tidak bisa dikonversi (misalnya '38 th') ke NaN\n",
    "df['USIA'] = pd.to_numeric(df['USIA'], errors='coerce')\n",
    "\n",
    "# Memeriksa apakah ada nilai NaN setelah konversi\n",
    "print(df['USIA'].isnull().sum())\n",
    "\n",
    "# Jika ada NaN, Anda bisa memutuskan untuk menghapusnya atau mengisinya\n",
    "df.dropna(subset=['USIA'], inplace=True)\n",
    "\n",
    "# Sekarang Anda dapat membuat histogram\n",
    "plt.figure(figsize=(10, 6))\n",
    "sns.histplot(df['USIA'], bins=10, kde=True)\n",
    "plt.title('Distribusi Usia')\n",
    "plt.xlabel('Usia (Tahun)')\n",
    "plt.ylabel('Frekuensi')\n",
    "plt.grid()\n",
    "plt.show()\n",
    "\n",
    "\n"
   ]
  },
  {
   "cell_type": "code",
   "execution_count": null,
   "id": "3209aa8f",
   "metadata": {},
   "outputs": [],
   "source": []
  },
  {
   "cell_type": "markdown",
   "id": "5ea99519",
   "metadata": {},
   "source": [
    "### Distribus PE/Non_PE dengan pie chart"
   ]
  },
  {
   "cell_type": "code",
   "execution_count": 74,
   "id": "ad649917",
   "metadata": {},
   "outputs": [
    {
     "name": "stdout",
     "output_type": "stream",
     "text": [
      "10\n",
      "313\n"
     ]
    },
    {
     "data": {
      "image/png": "[encoded data removed]",
      "text/plain": [
       "<Figure size 600x600 with 1 Axes>"
      ]
     },
     "metadata": {},
     "output_type": "display_data"
    }
   ],
   "source": [
    "# Data PE/Non PE dari tabel\n",
    "data_pe_non_pe = df['PE/Non PE']\n",
    "data_pe_non_pe.dtype\n",
    "labels = ['PE', 'Non PE']\n",
    "\n",
    "# Menghitung jumlah PE dan Non PE\n",
    "pe_count = df['PE/Non PE'].value_counts().get('PE', 0)  # Menghitung jumlah PE\n",
    "non_pe_count = df['PE/Non PE'].value_counts().get('Non PE', 0)  # Menghitung jumlah Non PE\n",
    "print(pe_count)\n",
    "print(non_pe_count)\n",
    "\n",
    "# Data untuk pie chart\n",
    "sizes = [pe_count, non_pe_count]\n",
    "\n",
    "# Membuat pie chart\n",
    "plt.figure(figsize=(6,6))\n",
    "plt.pie(sizes, labels=labels, autopct='%1.1f%%', startangle=90, colors=['lightcoral', 'lightblue'])\n",
    "\n",
    "# Menambahkan judul\n",
    "plt.title('Distribusi PE/Non PE')\n",
    "\n",
    "# Menampilkan plot\n",
    "plt.show()\n"
   ]
  },
  {
   "cell_type": "markdown",
   "id": "b3425351",
   "metadata": {},
   "source": [
    "### Korelasi antara Riwayat Hipertensi dan Obesitas"
   ]
  },
  {
   "cell_type": "code",
   "execution_count": 75,
   "id": "912f650e",
   "metadata": {},
   "outputs": [
    {
     "name": "stdout",
     "output_type": "stream",
     "text": [
      "Korelasi antara RIW HIPERTENSI dan OBESITAS: 0.12\n"
     ]
    }
   ],
   "source": [
    "# Mengubah kolom 'RIW HIPERTENSI' dan 'OBESITAS' menjadi numerik\n",
    "df['RIW HIPERTENSI'] = df['RIW HIPERTENSI'].apply(lambda x: 1 if x == 'Ya' else 0)\n",
    "df['OBESITAS'] = df['OBESITAS'].apply(lambda x: 1 if x == 'Ya' else 0)\n",
    "\n",
    "# Menghitung korelasi\n",
    "correlation = df[['RIW HIPERTENSI', 'OBESITAS']].corr().iloc[0, 1]\n",
    "\n",
    "print(f'Korelasi antara RIW HIPERTENSI dan OBESITAS: {correlation:.2f}')\n",
    "\n"
   ]
  }
 ],
 "metadata": {
  "kernelspec": {
   "display_name": "Python 3 (ipykernel)",
   "language": "python",
   "name": "python3"
  },
  "language_info": {
   "codemirror_mode": {
    "name": "ipython",
    "version": 3
   },
   "file_extension": ".py",
   "mimetype": "text/x-python",
   "name": "python",
   "nbconvert_exporter": "python",
   "pygments_lexer": "ipython3",
   "version": "3.12.3"
  }
 },
 "nbformat": 4,
 "nbformat_minor": 5
}
